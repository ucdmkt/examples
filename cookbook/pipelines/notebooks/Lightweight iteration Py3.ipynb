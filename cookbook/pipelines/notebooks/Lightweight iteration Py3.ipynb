{
 "cells": [
  {
   "cell_type": "markdown",
   "metadata": {},
   "source": [
    "# Lightweight component iteration (Py3)"
   ]
  },
  {
   "cell_type": "code",
   "execution_count": null,
   "metadata": {
    "scrolled": true
   },
   "outputs": [],
   "source": [
    "# Install Kubeflow Pipeline SDK\n",
    "!pip3 install kfp --upgrade"
   ]
  },
  {
   "cell_type": "markdown",
   "metadata": {},
   "source": [
    "## Iterate on a Python function in a component"
   ]
  },
  {
   "cell_type": "code",
   "execution_count": null,
   "metadata": {},
   "outputs": [],
   "source": [
    "import kfp.components as components\n",
    "\n",
    "def add(a: float, b: float) -> float:\n",
    "    \"\"\"This function docstring appears as the component description.\"\"\"\n",
    "    return a + b\n",
    "\n",
    "# add() is embedded into the component, on `base_image`.\n",
    "add_op = components.func_to_container_op(add, base_image='tensorflow/tensorflow:1.12.0-py3')"
   ]
  },
  {
   "cell_type": "markdown",
   "metadata": {},
   "source": [
    "## Build a pipeline with the component under iteration inside"
   ]
  },
  {
   "cell_type": "code",
   "execution_count": null,
   "metadata": {},
   "outputs": [],
   "source": [
    "import kfp.dsl as dsl\n",
    "@dsl.pipeline(\n",
    "   name='Lightweight pipeline',\n",
    "   description='A toy pipeline that performs arithmetic calculations.'\n",
    ")\n",
    "def add_pipeline(\n",
    "    a = '12', b = '15', # Default value\n",
    "):\n",
    "    add_task = add_op(a, b)"
   ]
  },
  {
   "cell_type": "code",
   "execution_count": null,
   "metadata": {},
   "outputs": [],
   "source": [
    "pipeline_func = add_pipeline\n",
    "pipeline_filename = pipeline_func.__name__ + '.pipeline.tar.gz'\n",
    "\n",
    "import kfp.compiler as compiler\n",
    "compiler.Compiler().compile(pipeline_func, pipeline_filename)"
   ]
  },
  {
   "cell_type": "code",
   "execution_count": null,
   "metadata": {},
   "outputs": [],
   "source": [
    "from kfp_experiment.rest import ApiException\n",
    "\n",
    "EXPERIMENT_NAME = 'Lightweight iteration'\n",
    "\n",
    "#Get or create an experiment and submit a pipeline run\n",
    "import kfp\n",
    "client = kfp.Client()\n",
    "\n",
    "try:\n",
    "    experiment = client.create_experiment(EXPERIMENT_NAME)\n",
    "except ApiException as e:\n",
    "    experiment = client.get_experiment(experiment_name=EXPERIMENT_NAME)\n",
    "    \n",
    "run_name = pipeline_func.__name__ + ' Py3 Run'\n",
    "run_result = client.run_pipeline(\n",
    "    experiment.id, run_name, pipeline_filename, {'a': 10, 'b': 20})"
   ]
  }
 ],
 "metadata": {
  "kernelspec": {
   "display_name": "Python 3",
   "language": "python",
   "name": "python3"
  },
  "language_info": {
   "codemirror_mode": {
    "name": "ipython",
    "version": 3
   },
   "file_extension": ".py",
   "mimetype": "text/x-python",
   "name": "python",
   "nbconvert_exporter": "python",
   "pygments_lexer": "ipython3",
   "version": "3.7.1"
  }
 },
 "nbformat": 4,
 "nbformat_minor": 2
}
