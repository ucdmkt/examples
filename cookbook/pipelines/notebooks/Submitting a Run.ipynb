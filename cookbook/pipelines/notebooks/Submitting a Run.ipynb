{
 "cells": [
  {
   "cell_type": "markdown",
   "metadata": {},
   "source": [
    "# Submit a pipeline Run from a cell"
   ]
  },
  {
   "cell_type": "code",
   "execution_count": null,
   "metadata": {
    "scrolled": true
   },
   "outputs": [],
   "source": [
    "# Install Kubeflow Pipeline\n",
    "!pip3 install pip --upgrade"
   ]
  },
  {
   "cell_type": "code",
   "execution_count": null,
   "metadata": {},
   "outputs": [],
   "source": [
    "# Download a pipeline package for demonstation\n",
    "!gsutil cp gs://ml-pipeline-playground/coin.tar.gz ."
   ]
  },
  {
   "cell_type": "code",
   "execution_count": null,
   "metadata": {},
   "outputs": [],
   "source": [
    "from kfp_experiment.rest import ApiException\n",
    "EXPERIMENT_NAME = \"submit_run_from_notebook_demo\"\n",
    "\n",
    "#Get or create an experiment and submit a pipeline run\n",
    "import kfp\n",
    "client = kfp.Client()\n",
    "\n",
    "try:\n",
    "    experiment = client.create_experiment(EXPERIMENT_NAME)\n",
    "except ApiException as e:\n",
    "    experiment = client.get_experiment(experiment_name=EXPERIMENT_NAME)\n",
    "    \n",
    "run_name = \"run from notebook\"\n",
    "run_result = client.run_pipeline(experiment.id, run_name, \"coin.tar.gz\", {})"
   ]
  }
 ],
 "metadata": {
  "kernelspec": {
   "display_name": "Python 3",
   "language": "python",
   "name": "python3"
  },
  "language_info": {
   "codemirror_mode": {
    "name": "ipython",
    "version": 3
   },
   "file_extension": ".py",
   "mimetype": "text/x-python",
   "name": "python",
   "nbconvert_exporter": "python",
   "pygments_lexer": "ipython3",
   "version": "3.6.4"
  }
 },
 "nbformat": 4,
 "nbformat_minor": 2
}
