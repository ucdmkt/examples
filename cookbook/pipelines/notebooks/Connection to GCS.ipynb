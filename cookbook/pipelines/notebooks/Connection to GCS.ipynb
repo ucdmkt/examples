{
 "cells": [
  {
   "cell_type": "markdown",
   "metadata": {},
   "source": [
    "# Managing files in GCS from within a component\n",
    "\n",
    "This notebook demonstrates two approaches to consume file object in GCS from within a Kubeflow Pipeline component.\n",
    "1. Using `gsutil` to copy the file and open.\n",
    "2. Using `tf.gfile` to directly open the file."
   ]
  },
  {
   "cell_type": "code",
   "execution_count": null,
   "metadata": {},
   "outputs": [],
   "source": [
    "!pip3 install pip --upgrade"
   ]
  },
  {
   "cell_type": "code",
   "execution_count": null,
   "metadata": {},
   "outputs": [],
   "source": [
    "import kfp.components as components\n",
    "\n",
    "def read_and_print_gsutil(filename: str) -> str:\n",
    "    \"\"\"Reading file from GCS using gsutil, download to a tmp location.\"\"\"\n",
    "    import os\n",
    "    import subprocess\n",
    "    import tempfile\n",
    "\n",
    "    tmp = tempfile.NamedTemporaryFile(delete=True)\n",
    "    subprocess.run(['gsutil', 'cp', filename, tmp.name])\n",
    "    with open(tmp.name) as f:\n",
    "        print(\"Printing file: %s\" % f.name)\n",
    "        for line in f:\n",
    "            print(line.rstrip())\n",
    "\n",
    "read_and_print_gsutil_op = components.func_to_container_op(\n",
    "    read_and_print_gsutil,\n",
    "    base_image='google/cloud-sdk:latest')"
   ]
  },
  {
   "cell_type": "code",
   "execution_count": null,
   "metadata": {},
   "outputs": [],
   "source": [
    "def read_and_print_tf_gfile(filename: str) -> str:\n",
    "    \"\"\"Reading file from GCS using tf.file.\"\"\"\n",
    "    import tensorflow as tf\n",
    "    with tf.gfile.GFile(filename) as f:\n",
    "        print(\"Printing file: %s\" % f.name)\n",
    "        for line in f:\n",
    "            print(line.rstrip())\n",
    "\n",
    "read_and_print_tf_gfile_op = components.func_to_container_op(\n",
    "    read_and_print_tf_gfile, base_image='tensorflow/tensorflow:1.12.0-py3')"
   ]
  },
  {
   "cell_type": "code",
   "execution_count": null,
   "metadata": {},
   "outputs": [],
   "source": [
    "import kfp.dsl as dsl\n",
    "@dsl.pipeline(\n",
    "   name='Read-and-print pipeline',\n",
    "   description='A toy pipeline that performs read and print from GCS.'\n",
    ")\n",
    "def pipeline(filename):\n",
    "    _ = read_and_print_gsutil_op(filename)\n",
    "    _ = read_and_print_tf_gfile_op(filename)\n",
    "\n",
    "pipeline_func = pipeline\n",
    "pipeline_filename = pipeline_func.__name__ + '.pipeline.tar.gz'\n",
    "\n",
    "import kfp.compiler as compiler\n",
    "compiler.Compiler().compile(pipeline_func, pipeline_filename)"
   ]
  },
  {
   "cell_type": "code",
   "execution_count": null,
   "metadata": {},
   "outputs": [],
   "source": [
    "from kfp_experiment.rest import ApiException\n",
    "\n",
    "EXPERIMENT_NAME = 'Read File in GCS'\n",
    "FILENAME = 'gs://ml-pipeline-playground/tfx/taxi-cab-classification/train.csv'\n",
    "\n",
    "#Get or create an experiment and submit a pipeline run\n",
    "import kfp\n",
    "client = kfp.Client()\n",
    "\n",
    "try:\n",
    "    experiment = client.create_experiment(EXPERIMENT_NAME)\n",
    "except ApiException as e:\n",
    "    experiment = client.get_experiment(experiment_name=EXPERIMENT_NAME)\n",
    "    \n",
    "run_name = pipeline_func.__name__ + ' Run'\n",
    "run_result = client.run_pipeline(\n",
    "    experiment.id, run_name, pipeline_filename, {'filename': FILENAME})"
   ]
  }
 ],
 "metadata": {
  "kernelspec": {
   "display_name": "Python 3",
   "language": "python",
   "name": "python3"
  },
  "language_info": {
   "codemirror_mode": {
    "name": "ipython",
    "version": 3
   },
   "file_extension": ".py",
   "mimetype": "text/x-python",
   "name": "python",
   "nbconvert_exporter": "python",
   "pygments_lexer": "ipython3",
   "version": "3.6.4"
  }
 },
 "nbformat": 4,
 "nbformat_minor": 2
}
