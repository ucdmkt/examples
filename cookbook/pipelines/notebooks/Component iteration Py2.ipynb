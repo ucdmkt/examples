{
 "cells": [
  {
   "cell_type": "markdown",
   "metadata": {},
   "source": [
    "# Component iteration (Py2)"
   ]
  },
  {
   "cell_type": "code",
   "execution_count": null,
   "metadata": {
    "scrolled": true
   },
   "outputs": [],
   "source": [
    "# Install Kubeflow Pipeline\n",
    "!pip3 install kfp --upgrade"
   ]
  },
  {
   "cell_type": "markdown",
   "metadata": {},
   "source": [
    "## Iterate on a Python function in a component"
   ]
  },
  {
   "cell_type": "code",
   "execution_count": null,
   "metadata": {},
   "outputs": [],
   "source": [
    "import kfp.components as components\n",
    "from kfp import compiler\n",
    "\n",
    "def add(a: float, b: float) -> float:\n",
    "    \"\"\"This function docstring appears as the component description.\"\"\"\n",
    "    return a + b\n",
    "\n",
    "GCP_PROJECT = '<YOUR PROJECT>'  # GCP Project under which container is created.\n",
    "TAG = 'dev'                     # Tag for the created container.\n",
    "IMAGE_PATH = 'gcr.io/%s/py2-iteration-component:%s' % (GCP_PROJECT, TAG)  # GCR path at which contianer is created.\n",
    "GCS_PATH = 'gs://<YOUR GCS BUCKET>/'  # GCS Bucket used for staging.\n",
    "\n",
    "add_op = compiler.build_python_component(\n",
    "    component_func=add,\n",
    "    staging_gcs_path=GCS_PATH,\n",
    "    dependency=[\n",
    "        # Additional PyPi dependencies.\n",
    "        # If other dependency is necessary, %%docker should be used to crate the base image.\n",
    "        kfp.compiler.VersionedDependency(name='google-api-python-client'),\n",
    "    ],\n",
    "    base_image='tensorflow/tensorflow:1.12.0',\n",
    "    target_image=TARGET_IMAGE,\n",
    "    python_version='python2')"
   ]
  },
  {
   "cell_type": "markdown",
   "metadata": {},
   "source": [
    "## Build a pipeline with the component under iteration inside"
   ]
  },
  {
   "cell_type": "code",
   "execution_count": null,
   "metadata": {},
   "outputs": [],
   "source": [
    "import kfp.dsl as dsl\n",
    "@dsl.pipeline(\n",
    "   name='Lightweight pipeline',\n",
    "   description='A toy pipeline that performs arithmetic calculations.'\n",
    ")\n",
    "def add_pipeline(\n",
    "    a = '12',\n",
    "    b = '15',\n",
    "):\n",
    "    add_task = add_op(a, b)"
   ]
  },
  {
   "cell_type": "code",
   "execution_count": null,
   "metadata": {},
   "outputs": [],
   "source": [
    "pipeline_func = add_pipeline\n",
    "pipeline_filename = pipeline_func.__name__ + '.pipeline.tar.gz'\n",
    "\n",
    "import kfp.compiler as compiler\n",
    "compiler.Compiler().compile(pipeline_func, pipeline_filename)"
   ]
  },
  {
   "cell_type": "code",
   "execution_count": null,
   "metadata": {},
   "outputs": [],
   "source": [
    "from kfp_experiment.rest import ApiException\n",
    "\n",
    "EXPERIMENT_NAME = 'Lightweight iteration'\n",
    "\n",
    "#Get or create an experiment and submit a pipeline run\n",
    "import kfp\n",
    "client = kfp.Client()\n",
    "\n",
    "try:\n",
    "    experiment = client.create_experiment(EXPERIMENT_NAME)\n",
    "except ApiException as e:\n",
    "    experiment = client.get_experiment(experiment_name=EXPERIMENT_NAME)\n",
    "    \n",
    "run_name = pipeline_func.__name__ + ' Py2 Run'\n",
    "run_result = client.run_pipeline(\n",
    "    experiment.id, run_name, pipeline_filename, {'a': 10, 'b': 20})"
   ]
  }
 ],
 "metadata": {
  "kernelspec": {
   "display_name": "Python 3",
   "language": "python",
   "name": "python3"
  },
  "language_info": {
   "codemirror_mode": {
    "name": "ipython",
    "version": 3
   },
   "file_extension": ".py",
   "mimetype": "text/x-python",
   "name": "python",
   "nbconvert_exporter": "python",
   "pygments_lexer": "ipython3",
   "version": "3.7.1"
  }
 },
 "nbformat": 4,
 "nbformat_minor": 2
}
