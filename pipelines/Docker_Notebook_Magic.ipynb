{
 "cells": [
  {
   "cell_type": "markdown",
   "metadata": {},
   "source": [
    "# Docker build cell magic demonstration\n",
    "\n",
    "Kubeflow Pipeline SDK offers [`%%docker` cell magic](https://github.com/kubeflow/pipelines/blob/master/sdk/python/kfp/notebook/_magic.py) that allow you to build a container from a cell."
   ]
  },
  {
   "cell_type": "code",
   "execution_count": null,
   "metadata": {
    "scrolled": true
   },
   "outputs": [],
   "source": [
    "# Install Kubeflow Pipeline SDK\n",
    "!pip3 install pip  --upgrade"
   ]
  },
  {
   "cell_type": "code",
   "execution_count": null,
   "metadata": {},
   "outputs": [],
   "source": [
    "## Configure environemnts\n",
    "import kfp\n",
    "from kfp import notebook\n",
    "\n",
    "#GCP_PROJECT = '<YOUR PROJECT>'  # GCP Project under which container is created.\n",
    "GCP_PROJECT = 'caipe-dev'\n",
    "TAG = 'dev'                # Tag for the created container.\n",
    "IMAGE_PATH = 'gcr.io/%s/docker-magic-component:%s' % (GCP_PROJECT, TAG)  # GCR path at which contianer is created.\n",
    "#GCS_PATH = 'gs://<YOUR GCS BUCKET>/'  # GCS Bucket used for staging.\n",
    "GCS_PATH= 'gs://muchida-kubeflow-pipeline'"
   ]
  },
  {
   "cell_type": "markdown",
   "metadata": {},
   "source": [
    "`%%docker` cell magic runs `docker build` from within a cell"
   ]
  },
  {
   "cell_type": "code",
   "execution_count": null,
   "metadata": {},
   "outputs": [],
   "source": [
    "%%docker {IMAGE_PATH} {GCS_PATH}\n",
    "# Base image\n",
    "FROM tensorflow/tensorflow:1.10.0-py3 \n",
    "# Additional PIP packages\n",
    "RUN pip3 install google-api-python-client && \\\n",
    "# Any other additional packages\n",
    "  export CLOUD_SDK_REPO=\"cloud-sdk-$(lsb_release -c -s)\" && \\\n",
    "  echo \"deb http://packages.cloud.google.com/apt $CLOUD_SDK_REPO main\" | \\\n",
    "    tee -a /etc/apt/sources.list.d/google-cloud-sdk.list  && \\\n",
    "  curl https://packages.cloud.google.com/apt/doc/apt-key.gpg | apt-key add - && \\\n",
    "  apt-get update && \\\n",
    "  apt-get install -y google-cloud-sdk"
   ]
  },
  {
   "cell_type": "code",
   "execution_count": null,
   "metadata": {
    "scrolled": true
   },
   "outputs": [],
   "source": [
    "print(\"Image created: http://%s\" % IMAGE_PATH)"
   ]
  }
 ],
 "metadata": {
  "kernelspec": {
   "display_name": "Python 3",
   "language": "python",
   "name": "python3"
  },
  "language_info": {
   "codemirror_mode": {
    "name": "ipython",
    "version": 3
   },
   "file_extension": ".py",
   "mimetype": "text/x-python",
   "name": "python",
   "nbconvert_exporter": "python",
   "pygments_lexer": "ipython3",
   "version": "3.7.1"
  }
 },
 "nbformat": 4,
 "nbformat_minor": 2
}
